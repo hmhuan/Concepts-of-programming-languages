{
 "cells": [
  {
   "cell_type": "code",
   "execution_count": 3,
   "metadata": {},
   "outputs": [],
   "source": [
    "import sys\n",
    "import antlr4 \n",
    "from SCLexer import SCLexer\n",
    "from SCParser import SCParser\n",
    "from SCListener import SCListener"
   ]
  },
  {
   "cell_type": "code",
   "execution_count": 75,
   "metadata": {},
   "outputs": [
    {
     "name": "stdout",
     "output_type": "stream",
     "text": [
      "2 'b' LITERAL\n",
      "3 '~' LITERAL\n",
      "3 <EOF> ALPHA_NUM\n"
     ]
    },
    {
     "name": "stderr",
     "output_type": "stream",
     "text": [
      "line 1:0 token recognition error at: ''\\)'\n",
      "line 1:3 token recognition error at: '' '\n"
     ]
    }
   ],
   "source": [
    "stream = antlr4.FileStream('test')\n",
    "lexer = SCLexer(stream)\n",
    "tokens = antlr4.CommonTokenStream(lexer)\n",
    "parser = SCParser(tokens)\n",
    "parser.scan()\n",
    "\n",
    "for token in tokens.tokens:\n",
    "    print(token.line, token.text, lexer.symbolicNames[token.type])"
   ]
  },
  {
   "cell_type": "code",
   "execution_count": 71,
   "metadata": {},
   "outputs": [
    {
     "name": "stdout",
     "output_type": "stream",
     "text": [
      "\n",
      "(base) E:\\Visual Studio\\WorkSpace\\HCMUS\\[HK8][NLNNLT]\\nlnnlt\\labs\\MyPL>antlr4 -Dlanguage=Python3 SC.g4 \n",
      "\n",
      "(base) E:\\Visual Studio\\WorkSpace\\HCMUS\\[HK8][NLNNLT]\\nlnnlt\\labs\\MyPL>java org.antlr.v4.Tool -Dlanguage=Python3 SC.g4 \n"
     ]
    }
   ],
   "source": [
    "!scripts.bat"
   ]
  },
  {
   "cell_type": "code",
   "execution_count": null,
   "metadata": {},
   "outputs": [],
   "source": []
  }
 ],
 "metadata": {
  "kernelspec": {
   "display_name": "Python 3",
   "language": "python",
   "name": "python3"
  },
  "language_info": {
   "codemirror_mode": {
    "name": "ipython",
    "version": 3
   },
   "file_extension": ".py",
   "mimetype": "text/x-python",
   "name": "python",
   "nbconvert_exporter": "python",
   "pygments_lexer": "ipython3",
   "version": "3.7.1"
  }
 },
 "nbformat": 4,
 "nbformat_minor": 4
}
