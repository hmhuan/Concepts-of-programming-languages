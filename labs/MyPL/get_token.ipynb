{
 "cells": [
  {
   "cell_type": "code",
   "execution_count": 1,
   "metadata": {},
   "outputs": [
    {
     "name": "stdout",
     "output_type": "stream",
     "text": [
      "\n",
      "E:\\Visual Studio\\WorkSpace\\HCMUS\\[HK8][NLNNLT]\\nlnnlt\\labs\\MyPL>antlr4 -Dlanguage=Python3 SC.g4 \n",
      "\n",
      "E:\\Visual Studio\\WorkSpace\\HCMUS\\[HK8][NLNNLT]\\nlnnlt\\labs\\MyPL>java org.antlr.v4.Tool -Dlanguage=Python3 SC.g4 \n"
     ]
    }
   ],
   "source": [
    "!scripts.bat"
   ]
  },
  {
   "cell_type": "code",
   "execution_count": 2,
   "metadata": {},
   "outputs": [],
   "source": [
    "import sys\n",
    "import antlr4 \n",
    "from SCLexer import SCLexer\n",
    "from SCParser import SCParser\n",
    "from SCListener import SCListener"
   ]
  },
  {
   "cell_type": "markdown",
   "metadata": {},
   "source": [
    "## Scanner"
   ]
  },
  {
   "cell_type": "code",
   "execution_count": 7,
   "metadata": {},
   "outputs": [
    {
     "name": "stdout",
     "output_type": "stream",
     "text": [
      "2 boolean\n",
      "3 callout\n",
      "4 class\n",
      "5 else\n",
      "6 BOOLEANLITERAL false\n",
      "7 if\n",
      "8 int\n",
      "9 return\n",
      "10 BOOLEANLITERAL true\n",
      "11 void\n",
      "12 for\n",
      "13 IDENTIFIER forpar\n",
      "14 break\n",
      "15 continue\n"
     ]
    }
   ],
   "source": [
    "file = 'tokens1'\n",
    "stream = antlr4.FileStream('input/scanner/' + file)\n",
    "lexer = SCLexer(stream)\n",
    "\n",
    "for token in lexer.getAllTokens():\n",
    "    line, symbol, text = token.line, '', token.text\n",
    "    if token.type >= 7:\n",
    "        symbol =  lexer.symbolicNames[token.type]\n",
    "        print(line, symbol, text)\n",
    "    else:\n",
    "        print(line, text)"
   ]
  },
  {
   "cell_type": "code",
   "execution_count": 8,
   "metadata": {},
   "outputs": [
    {
     "name": "stdout",
     "output_type": "stream",
     "text": [
      "2 boolean\n",
      "3 callout\n",
      "4 class\n",
      "5 else\n",
      "6 BOOLEANLITERAL false\n",
      "7 if\n",
      "8 int\n",
      "9 return\n",
      "10 BOOLEANLITERAL true\n",
      "11 void\n",
      "12 for\n",
      "13 IDENTIFIER forpar\n",
      "14 break\n",
      "15 continue\n"
     ]
    }
   ],
   "source": [
    "fo = open('input/scanner/output/' + file + '.out', 'r')\n",
    "lines = fo.readlines()\n",
    "for line in lines:\n",
    "    print(line, end='')\n",
    "fo.close()"
   ]
  },
  {
   "cell_type": "code",
   "execution_count": null,
   "metadata": {},
   "outputs": [],
   "source": [
    "fo = open('input/scanner/' + file, 'r')\n",
    "lines = fo.readlines()\n",
    "for line in lines:\n",
    "    print(line, end='')\n",
    "fo.close()"
   ]
  },
  {
   "cell_type": "code",
   "execution_count": null,
   "metadata": {},
   "outputs": [],
   "source": []
  },
  {
   "cell_type": "markdown",
   "metadata": {},
   "source": [
    "## Parser"
   ]
  },
  {
   "cell_type": "code",
   "execution_count": null,
   "metadata": {},
   "outputs": [],
   "source": [
    "file = 'illegal-01'\n",
    "stream = antlr4.FileStream('input/parser/' + file)\n",
    "lexer = SCLexer(stream)\n",
    "tokens = antlr4.CommonTokenStream(lexer)\n",
    "parser = SCParser(tokens)\n",
    "parser.scan()\n",
    "for token in tokens.tokens:\n",
    "    if token.type != antlr4.Token.EOF:\n",
    "        print(token.line, lexer.symbolicNames[token.type], token.text)\n",
    "print()"
   ]
  },
  {
   "cell_type": "code",
   "execution_count": null,
   "metadata": {},
   "outputs": [],
   "source": []
  }
 ],
 "metadata": {
  "kernelspec": {
   "display_name": "Python 3",
   "language": "python",
   "name": "python3"
  },
  "language_info": {
   "codemirror_mode": {
    "name": "ipython",
    "version": 3
   },
   "file_extension": ".py",
   "mimetype": "text/x-python",
   "name": "python",
   "nbconvert_exporter": "python",
   "pygments_lexer": "ipython3",
   "version": "3.7.1"
  }
 },
 "nbformat": 4,
 "nbformat_minor": 4
}
